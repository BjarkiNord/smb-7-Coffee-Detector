{
 "cells": [
  {
   "cell_type": "code",
   "execution_count": 7,
   "id": "f265d34f",
   "metadata": {},
   "outputs": [
    {
     "name": "stdout",
     "output_type": "stream",
     "text": [
      "\n",
      "image 1/1 C:\\Users\\bjark\\hackdays\\cofffeeMaker\\git\\inftest.png: 224x320 1 coffee, 130.5ms\n",
      "Speed: 1.1ms preprocess, 130.5ms inference, 383.8ms postprocess per image at shape (1, 3, 224, 320)\n",
      "Results saved to \u001b[1mruns\\detect\\predict\u001b[0m\n"
     ]
    },
    {
     "data": {
      "text/plain": [
       "[ultralytics.engine.results.Results object with attributes:\n",
       " \n",
       " boxes: ultralytics.engine.results.Boxes object\n",
       " keypoints: None\n",
       " masks: None\n",
       " names: {0: 'coffee', 1: 'empty', 2: 'nocoffee'}\n",
       " obb: None\n",
       " orig_img: array([[[110, 120, 139],\n",
       "         [110, 120, 139],\n",
       "         [110, 120, 139],\n",
       "         ...,\n",
       "         [176, 169, 157],\n",
       "         [175, 168, 156],\n",
       "         [174, 167, 155]],\n",
       " \n",
       "        [[110, 121, 138],\n",
       "         [110, 120, 138],\n",
       "         [110, 120, 139],\n",
       "         ...,\n",
       "         [177, 169, 158],\n",
       "         [176, 168, 157],\n",
       "         [175, 167, 156]],\n",
       " \n",
       "        [[110, 121, 137],\n",
       "         [110, 121, 138],\n",
       "         [110, 120, 138],\n",
       "         ...,\n",
       "         [177, 169, 158],\n",
       "         [176, 169, 157],\n",
       "         [175, 168, 156]],\n",
       " \n",
       "        ...,\n",
       " \n",
       "        [[ 63,  57, 168],\n",
       "         [ 63,  57, 168],\n",
       "         [ 63,  57, 168],\n",
       "         ...,\n",
       "         [117, 128, 137],\n",
       "         [118, 129, 138],\n",
       "         [118, 129, 138]],\n",
       " \n",
       "        [[ 63,  57, 168],\n",
       "         [ 63,  57, 168],\n",
       "         [ 63,  57, 168],\n",
       "         ...,\n",
       "         [117, 128, 137],\n",
       "         [117, 129, 138],\n",
       "         [118, 129, 138]],\n",
       " \n",
       "        [[ 62,  56, 167],\n",
       "         [ 62,  56, 167],\n",
       "         [ 62,  56, 167],\n",
       "         ...,\n",
       "         [116, 129, 138],\n",
       "         [117, 129, 138],\n",
       "         [117, 129, 138]]], dtype=uint8)\n",
       " orig_shape: (688, 1129)\n",
       " path: 'C:\\\\Users\\\\bjark\\\\hackdays\\\\cofffeeMaker\\\\git\\\\inftest.png'\n",
       " probs: None\n",
       " save_dir: 'runs\\\\detect\\\\predict'\n",
       " speed: {'preprocess': 1.0874271392822266, 'inference': 130.45668601989746, 'postprocess': 383.8222026824951}]"
      ]
     },
     "execution_count": 7,
     "metadata": {},
     "output_type": "execute_result"
    }
   ],
   "source": [
    "from ultralytics import YOLO\n",
    "\n",
    "# Load a pretrained YOLOv8n model\n",
    "model = YOLO('best.pt')\n",
    "\n",
    "# Run inference on 'bus.jpg' with arguments\n",
    "model.predict('inftest.png', save=True, imgsz=320, conf=0.5)"
   ]
  },
  {
   "cell_type": "code",
   "execution_count": 8,
   "id": "3d22985c",
   "metadata": {},
   "outputs": [
    {
     "name": "stdout",
     "output_type": "stream",
     "text": [
      "\n",
      "image 1/1 C:\\Users\\bjark\\hackdays\\cofffeeMaker\\git\\inftest.png: 416x640 1 nocoffee, 113.0ms\n",
      "Speed: 221.8ms preprocess, 113.0ms inference, 27.2ms postprocess per image at shape (1, 3, 416, 640)\n",
      "None\n"
     ]
    }
   ],
   "source": [
    "results = model('inftest.png')  # results list\n",
    "\n",
    "# View results\n",
    "for r in results:\n",
    "    print(r.probs)  # print the Probs object containing the detected class probabilities"
   ]
  },
  {
   "cell_type": "code",
   "execution_count": null,
   "id": "83396820",
   "metadata": {},
   "outputs": [],
   "source": []
  }
 ],
 "metadata": {
  "kernelspec": {
   "display_name": "Python 3 (ipykernel)",
   "language": "python",
   "name": "python3"
  },
  "language_info": {
   "codemirror_mode": {
    "name": "ipython",
    "version": 3
   },
   "file_extension": ".py",
   "mimetype": "text/x-python",
   "name": "python",
   "nbconvert_exporter": "python",
   "pygments_lexer": "ipython3",
   "version": "3.11.5"
  }
 },
 "nbformat": 4,
 "nbformat_minor": 5
}
